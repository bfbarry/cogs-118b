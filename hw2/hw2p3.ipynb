{
 "cells": [
  {
   "cell_type": "code",
   "execution_count": null,
   "metadata": {},
   "outputs": [],
   "source": [
    "import numpy as np\n",
    "import matplotlib\n",
    "import matplotlib.pyplot as plt\n",
    "from scipy.stats import beta\n",
    "%matplotlib inline"
   ]
  },
  {
   "cell_type": "markdown",
   "metadata": {},
   "source": [
    "# Question 3"
   ]
  },
  {
   "cell_type": "code",
   "execution_count": null,
   "metadata": {},
   "outputs": [],
   "source": [
    "def plotbetapdfs(ab, sp_idx, tally):\n",
    "    # ab is a 3-by-2 matrix containing the a,b parameters for the\n",
    "    # priors/posteriors\n",
    "    # Before the first flip: ab = [[1, 1], [0.5, 0.5], [50, 50]]\n",
    "    #\n",
    "    # sp_idx is a 3-tuple that specfies in which subplot to plot the current\n",
    "    # distributions specified by the (a,b) pairs in ab.\n",
    "    # \n",
    "    # tally is a 2-tuple (# heads, # tails) containing a running count of the\n",
    "    # observed number of heads and tails.\n",
    "    # Before the first flip: tally=(0,0)\n",
    "\n",
    "    num_rows = np.shape(ab)[0]\n",
    "    mark = ['b-','r:','g--'];\n",
    "\n",
    "    if 'axes' not in globals():\n",
    "        global fig\n",
    "        global axes\n",
    "        fig, axes = plt.subplots(sp_idx[0], sp_idx[1])\n",
    "        fig.set_figheight(10)\n",
    "        fig.set_figwidth(10)\n",
    "    elif np.shape(axes)[0] != sp_idx[:2][0] or np.shape(axes)[1] != sp_idx[:2][1]:\n",
    "        print(sp_idx[:2])\n",
    "        print(list(np.shape(axes)))\n",
    "        fig, axes = plt.subplots(sp_idx[0], sp_idx[1])\n",
    "        fig.set_figheight(10)\n",
    "        fig.set_figwidth(10)\n",
    "\n",
    "    for row in range(num_rows):\n",
    "        a = ab[row][0]\n",
    "        b = ab[row][1]\n",
    "        \n",
    "        x = np.linspace(0.001, 0.999, num=999)\n",
    "        y = beta.pdf(x, a, b)\n",
    "        norm_y = y / max(y)\n",
    "        \n",
    "        marker = mark[row]\n",
    "        ax = axes[sp_idx[2]//sp_idx[1], sp_idx[2]%sp_idx[1]]\n",
    "\n",
    "        ax.plot(x, norm_y, mark[row], lw=2)\n",
    "        ax.set_xlim([0, 1])\n",
    "        ax.set_ylim([0, 1.2])\n",
    "        ax.set_title(str(tally[0])+' h, '+str(tally[1])+' t')\n",
    "        ax.set_xlabel('Bias weighting for heads $\\mu$')\n",
    "        ax.set_ylabel('$p(\\mu|\\{data\\},I)$')\n",
    "    \n",
    "    fig.tight_layout()\n",
    "    plt.close()\n",
    "    return fig"
   ]
  },
  {
   "cell_type": "code",
   "execution_count": null,
   "metadata": {},
   "outputs": [],
   "source": []
  }
 ],
 "metadata": {
  "kernel_info": {
   "name": "python3"
  },
  "kernelspec": {
   "display_name": "Python 2",
   "language": "python",
   "name": "python2"
  },
  "language_info": {
   "codemirror_mode": {
    "name": "ipython",
    "version": 2
   },
   "file_extension": ".py",
   "mimetype": "text/x-python",
   "name": "python",
   "nbconvert_exporter": "python",
   "pygments_lexer": "ipython2",
   "version": "2.7.15"
  },
  "nteract": {
   "version": "0.15.0"
  }
 },
 "nbformat": 4,
 "nbformat_minor": 2
}
